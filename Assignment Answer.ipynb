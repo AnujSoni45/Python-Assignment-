{
 "cells": [
  {
   "cell_type": "code",
   "execution_count": null,
   "id": "d8c1556f-8775-4b22-b5d1-05802b6abe0a",
   "metadata": {},
   "outputs": [],
   "source": [
    "Q1. Create one variable containing following type of data:\n",
    "\n",
    "(i)\tstr\n",
    "(ii) list\n",
    "(iii) float\n",
    "(iv) tuple"
   ]
  },
  {
   "cell_type": "code",
   "execution_count": null,
   "id": "335bed9f-03f1-474b-8b74-b5723b1f3eb2",
   "metadata": {},
   "outputs": [],
   "source": [
    "Answer:\n",
    "    # (i) String\n",
    "    my_string = \"Hello, World!\""
   ]
  },
  {
   "cell_type": "code",
   "execution_count": null,
   "id": "112b70d6-7f6f-4289-90b2-b343954a2a33",
   "metadata": {},
   "outputs": [],
   "source": [
    "Q2. Given are some following variables containing data:\n",
    "    What will be the data type of the above given variable.\n",
    "\n",
    "(i)\tvar1 = ‘ ‘\n",
    "(ii) var2 = ‘[ DS , ML , Python]’\n",
    "(iii) var3 = [ ‘DS’ , ’ML’ , ‘Python’ ]\n",
    "(iv) var4 = 1."
   ]
  },
  {
   "cell_type": "code",
   "execution_count": null,
   "id": "e39360e3-a102-4b13-94f2-a40000498b42",
   "metadata": {},
   "outputs": [],
   "source": [
    "Answer:\n",
    "    var1 is a string\n",
    "    var2 is a string\n",
    "    var3 is a list\n",
    "    var4 is an integer"
   ]
  },
  {
   "cell_type": "code",
   "execution_count": null,
   "id": "cfdd3c26-fcbd-4370-ab85-1a8886b58c04",
   "metadata": {},
   "outputs": [],
   "source": [
    "Q3. Explain the use of the following operators using an example:\n",
    "\n",
    "(i)\t/\n",
    "(ii) % \n",
    "(iii) //\n",
    "(iv) **"
   ]
  },
  {
   "cell_type": "code",
   "execution_count": null,
   "id": "78e5c359-670c-4820-88f5-8879a4a0b849",
   "metadata": {},
   "outputs": [],
   "source": [
    "Answer:\n",
    "    (i) / (Division Operator):\n",
    "    The division operator is used to divide one number by another.\n",
    "Example:\n",
    "    x = 10 / 3\n",
    "    print(x)  \n",
    "    # Output: 3.3333333333333335\n",
    "    \n",
    "    (ii) % (Modulus Operator):\n",
    "    The modulus operator calculates the remainder when one number is divided by another.\n",
    "Example:\n",
    "    x = 10 % 3\n",
    "    print(x)  \n",
    "    # Output: 1\n",
    "    \n",
    "    (iii) // (Floor Division Operator):\n",
    "    The floor division operator divides one number by another and returns the \n",
    "    largest integer less than or equal to the quotient, without any decimal places.\n",
    "Example:\n",
    "    x = 10 // 3\n",
    "    print(x)  \n",
    "    # Output: 3\n",
    "    \n",
    "    (iv) ** (Exponentiation Operator):\n",
    "    The exponentiation operator raises a number to a power.\n",
    "Example:\n",
    "    x = 2 ** 3\n",
    "    print(x) \n",
    "    # Output: 8\n",
    "\n",
    "\n"
   ]
  },
  {
   "cell_type": "code",
   "execution_count": null,
   "id": "6f680084-56cf-4969-862a-8dd8762315e5",
   "metadata": {},
   "outputs": [],
   "source": [
    "Q4. Create a list of length 10 of your choice containing multiple types of data. Using for loop print the \n",
    "element and its data type."
   ]
  },
  {
   "cell_type": "code",
   "execution_count": 1,
   "id": "528be0f3-9087-4e2e-923d-31cd6b501af0",
   "metadata": {},
   "outputs": [
    {
     "name": "stdout",
     "output_type": "stream",
     "text": [
      "10 <class 'int'>\n",
      "Hello <class 'str'>\n",
      "3.14 <class 'float'>\n",
      "True <class 'bool'>\n",
      "[1, 2, 3] <class 'list'>\n",
      "{'a': 1, 'b': 2} <class 'dict'>\n",
      "None <class 'NoneType'>\n",
      "(1, 2) <class 'tuple'>\n",
      "World <class 'str'>\n",
      "False <class 'bool'>\n"
     ]
    }
   ],
   "source": [
    "Answer:\n",
    "    my_list = [10, \"Hello\", 3.14, True, [1, 2, 3], {'a': 1, 'b': 2}, None, (1, 2), \"World\", False]\n",
    "    \n",
    "    for item in my_list:\n",
    "    print(item, type(item))\n"
   ]
  },
  {
   "cell_type": "code",
   "execution_count": null,
   "id": "ca5d4bcf-f47b-4e73-aa54-68fbf31095e7",
   "metadata": {},
   "outputs": [],
   "source": [
    "Q5. Using a while loop, verify if the number A is purely divisible by number B and if so then how many \n",
    "times it can be divisible"
   ]
  },
  {
   "cell_type": "code",
   "execution_count": 2,
   "id": "f9d47e94-3044-4f6a-ba8b-822ab54e692f",
   "metadata": {},
   "outputs": [
    {
     "name": "stdout",
     "output_type": "stream",
     "text": [
      "A is divisible by B 2 times.\n"
     ]
    }
   ],
   "source": [
    "Answer:\n",
    "    A = 100\n",
    "    B = 5\n",
    "\n",
    "    count = 0\n",
    "\n",
    "    while A % B == 0:\n",
    "    A = A // B\n",
    "    count += 1\n",
    "\n",
    "    print(\"A is divisible by B\", count, \"times.\")\n"
   ]
  },
  {
   "cell_type": "code",
   "execution_count": null,
   "id": "d7b96fb6-85b7-4b52-912e-dafd1ac49f9d",
   "metadata": {},
   "outputs": [],
   "source": [
    "Q6. Create a list containing 25 int type data. Using for loop and if-else condition print if the element is \n",
    "divisible by 3 or not."
   ]
  },
  {
   "cell_type": "code",
   "execution_count": 3,
   "id": "a0e660e2-ca62-498b-ab7d-f2d5eddc42d0",
   "metadata": {},
   "outputs": [
    {
     "name": "stdout",
     "output_type": "stream",
     "text": [
      "10 is not divisible by 3\n",
      "6 is divisible by 3\n",
      "8 is not divisible by 3\n",
      "27 is divisible by 3\n",
      "12 is divisible by 3\n",
      "18 is divisible by 3\n",
      "5 is not divisible by 3\n",
      "33 is divisible by 3\n",
      "20 is not divisible by 3\n",
      "9 is divisible by 3\n",
      "15 is divisible by 3\n",
      "22 is not divisible by 3\n",
      "30 is divisible by 3\n",
      "14 is not divisible by 3\n",
      "7 is not divisible by 3\n",
      "11 is not divisible by 3\n",
      "24 is divisible by 3\n",
      "3 is divisible by 3\n",
      "21 is divisible by 3\n",
      "16 is not divisible by 3\n",
      "25 is not divisible by 3\n",
      "36 is divisible by 3\n",
      "4 is not divisible by 3\n",
      "19 is not divisible by 3\n",
      "17 is not divisible by 3\n"
     ]
    }
   ],
   "source": [
    "Answer:\n",
    "    my_list = [10, 6, 8, 27, 12, 18, 5, 33, 20, 9, 15, 22, 30, 14, 7, 11, 24, 3, 21, 16, 25, 36, 4, 19, 17]\n",
    "\n",
    "    for element in my_list:\n",
    "    if element % 3 == 0:\n",
    "        print(element, \"is divisible by 3\")\n",
    "    else:\n",
    "        print(element, \"is not divisible by 3\")\n"
   ]
  },
  {
   "cell_type": "code",
   "execution_count": null,
   "id": "5642546d-278f-4acd-a0e7-f06e56825651",
   "metadata": {},
   "outputs": [],
   "source": [
    "Q7. What do you understand about mutable and immutable data types? Give examples for both showing \n",
    "this property."
   ]
  },
  {
   "cell_type": "code",
   "execution_count": null,
   "id": "7fa8cee1-7cad-4732-ba47-83de9b2af2e7",
   "metadata": {},
   "outputs": [],
   "source": [
    "Answer:\n",
    "    (i) Mutable data types, allow their values to be modified after creation. \n",
    "    You can add or remove elements, change values, or modify the object directly.\n",
    "    \n",
    "Example:\n",
    "    my_list = [1, 2, 3]\n",
    "    my_list.append(4)\n",
    "    my_list[1] = 5\n",
    "\n",
    "    print(my_list)  # Output: [1, 5, 3, 4]\n",
    "    \n",
    "    (ii) Immutable data types, as the name suggests, are objects whose state cannot be changed once they are created. \n",
    "    Any operation that appears to modify an immutable object actually creates a new object with the desired changes.\n",
    "    \n",
    "Example:\n",
    "    message = \"Hello\"\n",
    "    new_message = message + \" World\"\n",
    "\n",
    "    print(message)       # Output: Hello\n",
    "    print(new_message)   # Output: Hello World\n",
    "    \n",
    "    "
   ]
  },
  {
   "cell_type": "code",
   "execution_count": null,
   "id": "809be788-ca0b-4d08-a4f3-70b9f67845e9",
   "metadata": {},
   "outputs": [],
   "source": []
  }
 ],
 "metadata": {
  "kernelspec": {
   "display_name": "Python 3 (ipykernel)",
   "language": "python",
   "name": "python3"
  },
  "language_info": {
   "codemirror_mode": {
    "name": "ipython",
    "version": 3
   },
   "file_extension": ".py",
   "mimetype": "text/x-python",
   "name": "python",
   "nbconvert_exporter": "python",
   "pygments_lexer": "ipython3",
   "version": "3.10.8"
  }
 },
 "nbformat": 4,
 "nbformat_minor": 5
}
